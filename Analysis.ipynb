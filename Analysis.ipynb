{
 "cells": [
  {
   "cell_type": "code",
   "execution_count": 1,
   "metadata": {},
   "outputs": [],
   "source": [
    "# With a clean dataset of all climbing routes and all sport routes across states, we can now analyze:\n",
    "\n",
    "# The distribution of sport climbing routes across states by grade.\n",
    "    # Which state has the hardes sport climbing routes (most routes >=8a)?\n",
    "    # How many hard grades (>= 8a) are there in the states?\n",
    "    # Which state has the most sport climbing routes?\n",
    "    # Since trad climbing is very common in the US, which state has the most trad routes?\n",
    "    # Which state has the most sport climbing routes relative to all types of climbing?\n",
    "\n",
    "    # For a more fair/relevant comparison, lets consider state area:\n",
    "        # Which state has the most dense distribution of sport routes?\n"
   ]
  },
  {
   "cell_type": "markdown",
   "metadata": {},
   "source": [
    "# Analysis of US Rock climbing data\n",
    "After extracting and cleaning OpenBeta's scrape of Mountain Projects database of rock climbs within the US (https://github.com/OpenBeta/climbing-data), further cleaning of the data was performed to obtain a clean file for analysis (data_preparation.ipynb). The result was saved under Data_final.xslx.\n",
    "\n"
   ]
  },
  {
   "cell_type": "code",
   "execution_count": 2,
   "metadata": {},
   "outputs": [],
   "source": [
    "# load packages\n",
    "import numpy as np\n",
    "import matplotlib.pyplot as plt\n",
    "import pandas as pd\n",
    "import seaborn as sns\n",
    "import os\n",
    "import glob\n",
    "\n",
    "# import the data\n",
    "data = pd.read_excel(\"G:\\My Drive\\Trainings\\Python\\Trainings_file\\climbing project\\Cleaned dataset\\Data_final.xlsx\")\n",
    "\n",
    "# for normalization of the route count to the the size of the state later in the analysis, \n",
    "# we generate a file containing the state size outside of python and import it afterwards.\n",
    "\n",
    "# First, we export the states abbrevation from our data, which we need to align the two datasets externally.\n",
    "all_states_np = data['State'].unique()\n",
    "all_states_df = pd.DataFrame(all_states_np)\n",
    "all_states_df.to_excel('G:\\My Drive\\Trainings\\Python\\Trainings_file\\climbing project\\Cleaned dataset\\All_states_vec.xlsx', index = False)\n",
    "\n",
    "# The states from our dataset were matched with the size of each state in Excel.\n",
    "# The size was obained from: https://statesymbolsusa.org/symbol-official-item/national-us/uncategorized/states-size\n",
    "# We now import the generated file containing the sizes.\n",
    "state_size = pd.read_excel(\"G:\\My Drive\\Trainings\\Python\\Trainings_file\\climbing project\\Cleaned dataset\\State_size.xlsx\")\n",
    "data = data.merge(state_size, on='State', how='outer')\n",
    "\n"
   ]
  },
  {
   "cell_type": "code",
   "execution_count": null,
   "metadata": {},
   "outputs": [],
   "source": [
    "# Make sure the column 'French grading' is of type str so the x-axis in graphs is sorted correctly.\n",
    "# To avoid errors with NaN values we rename them to blanks.\n",
    "data.fillna('', inplace=True)\n",
    "data['French_grading'] = data['French_grading'].astype(\"string\")\n",
    "\n",
    "# filter the data set for only sport routes.\n",
    "# Sport routes are labelled as TRUE in the df which is interpreted as 1 my Python.\n",
    "# We create a from data independent copy of sport.\n",
    "sport = data[data.sport == 1].copy()\n",
    "# Filter out ungraded routes\n",
    "sport = sport[sport['French_grading'] != '']\n"
   ]
  },
  {
   "cell_type": "code",
   "execution_count": null,
   "metadata": {},
   "outputs": [],
   "source": [
    "# plot the spread of grades across the states in a count plot.\n",
    "total_sport_count_plot = sns.catplot(x= 'French_grading', kind = 'count', data = sport, height= 3, aspect= 4)\n",
    "\n",
    "# add gridlines for easier readability.\n",
    "plt.grid(which= 'major', axis= 'y', linestyle= 'dotted')\n",
    "\n",
    "# rotate the x axis labels to make it more readable.\n",
    "plt.xticks(rotation=45)\n",
    "# add a title\n",
    "plt.title('Spread of Sport climbing grades across the states')\n",
    "# Show the plot\n",
    "plt.show()\n"
   ]
  },
  {
   "cell_type": "markdown",
   "metadata": {},
   "source": [
    "In the graph above we can see that most sport climbing routes in the US are graded between 5a and 7b. In the following we want to plot the same distribution but for states individually as a more high level overview."
   ]
  },
  {
   "cell_type": "code",
   "execution_count": null,
   "metadata": {},
   "outputs": [],
   "source": [
    "\n",
    "\n",
    "# Plot the spread of grades across the states in a count plot.\n",
    "pp= sns.catplot(x= 'French_grading', kind = 'count', data = sport, col = 'State', col_wrap= 6, height= 2,\n",
    "                col_order= sorted(sport['State'].unique()))\n",
    "\n",
    "# Add a title to the FaceGrid and position it above the graph.\n",
    "pp.fig.subplots_adjust(top=0.95)\n",
    "pp.fig.suptitle('Spread of Sport climbing grades in each states')\n",
    "\n",
    "\n",
    "\n",
    "# remove the labels to make it more readable for a purely high level overview.\n",
    "sns.FacetGrid.set_xticklabels(self= pp, label=None)\n",
    "sns.FacetGrid.set(self=pp, xlabel=None)\n",
    "\n",
    "# Show the plot\n",
    "plt.show()"
   ]
  },
  {
   "cell_type": "markdown",
   "metadata": {},
   "source": [
    "The distribution of sport climbing routes across states seems to be quite heterogeneous. Next we want to get a more comprehensive overview of that finding by plotting the total count of sport routes in every state and the states proportion (%) of all sport routes in the US. "
   ]
  },
  {
   "cell_type": "code",
   "execution_count": null,
   "metadata": {},
   "outputs": [],
   "source": [
    "# adjust figure size and create a countplot counting all sport routes. List the occurences in descending order.\n",
    "plt.figure(figsize=(3,7))\n",
    "state_sport_counts_plot = sns.countplot(data = sport, y = 'State_name_full',\n",
    "            order= sport['State_name_full'].value_counts().index)\n",
    "\n",
    "# remove the frame from the plot as well as the x-axis. Since we label the bars, the axis is not needed.\n",
    "sns.despine(left=True, bottom=True)\n",
    "state_sport_counts_plot.set(xlabel=None, xticklabels=[], ylabel=None)\n",
    "state_sport_counts_plot.tick_params(bottom=False)\n",
    "\n",
    "# Add the count of each bar to the graph.\n",
    "plt.bar_label(container=state_sport_counts_plot.containers[0], labels=sport['State'].value_counts())\n",
    "\n",
    "# Add a title\n",
    "plt.title('Number of sport climbing routes per state')\n",
    "\n",
    "plt.show()"
   ]
  },
  {
   "cell_type": "code",
   "execution_count": null,
   "metadata": {},
   "outputs": [],
   "source": [
    "# Here we want to plot the % instead of the count.\n",
    "\n",
    "# adjust figure size and create a countplot counting all sport routes. List the occurences in descending order.\n",
    "plt.figure(figsize=(3,7))\n",
    "stateperc = sns.countplot(data = sport, y = 'State_name_full',\n",
    "            order= sport['State_name_full'].value_counts().index)\n",
    "\n",
    "# remove the frame from the plot as well as the x-axis. Since we label the bars, the axis is not needed.\n",
    "sns.despine(left=True, bottom=True)\n",
    "stateperc.set(xlabel=None, xticklabels=[], ylabel=None)\n",
    "stateperc.tick_params(bottom=False)\n",
    "\n",
    "# Calculate the percentage of sport routes of each state as a fraction of the total.\n",
    "state_sport_counts = sport['State'].value_counts()\n",
    "total_state_sport = len(sport)\n",
    "state_sport_percentages = (state_sport_counts / total_state_sport) * 100\n",
    "# Round the percentage to two decimals.\n",
    "state_sport_percentages = state_sport_percentages.round(2)\n",
    "\n",
    "# Label the plot with the percentages.\n",
    "plt.bar_label(container=stateperc.containers[0], labels=(state_sport_percentages.astype(str) + '%'))\n",
    "\n",
    "# Add a title\n",
    "plt.title('Number of sport climbing routes per state as % of the whole')\n",
    "\n",
    "plt.show()"
   ]
  },
  {
   "cell_type": "markdown",
   "metadata": {},
   "source": [
    "Since states are vastly different in size, lets look at the density of sport climbing routes within each state to have a more normalized comparison. Therefore we use data on size pbtained from: https://statesymbolsusa.org/symbol-official-item/national-us/uncategorized/states-size. A sample if the dataset is shown in the table below"
   ]
  },
  {
   "cell_type": "code",
   "execution_count": null,
   "metadata": {},
   "outputs": [],
   "source": [
    "# Transform the np array of sport route counts to a dataframe and merge it with the state_size dataframe, only keeping states present in our dataset.\n",
    "# Save the new df as state_size_norm_data.\n",
    "state_sport_counts_df = pd.DataFrame(state_sport_counts)\n",
    "state_sport_counts_df.rename(columns={'count': 'sport_route_count'}, inplace=True)\n",
    "state_size_norm_data = state_size.merge(state_sport_counts_df, on='State', how='right')\n",
    "\n",
    "# Add a new column containing the normalized sport routes as a fraction of state size.\n",
    "state_size_norm_data['norm_sport_route_count'] = state_size_norm_data['sport_route_count']/state_size_norm_data['State_sqMiles']\n",
    "\n",
    "# Plot the normalized data\n",
    "plt.figure(figsize=(3,7))\n",
    "norm_sport_plt = sns.barplot(data = state_size_norm_data, y = 'State_name_full', x= 'norm_sport_route_count',\n",
    "            order= state_size_norm_data['State_name_full'])\n",
    "\n",
    "# remove the frame from the plot as well as the x-axis. Since we label the bars, the axis is not needed.\n",
    "sns.despine(left=True, bottom=True)\n",
    "norm_sport_plt.set(xlabel=None, xticklabels=[], ylabel=None)\n",
    "norm_sport_plt.tick_params(bottom=False)\n",
    "\n",
    "# Add a title\n",
    "plt.title('Sport climbing density of each State')\n"
   ]
  },
  {
   "cell_type": "markdown",
   "metadata": {},
   "source": [
    "Plotting the density of sport climbing routes across states while keeping the order of the states following the total number of sport climbs per state, paints a different picture.\n",
    "New Hampshire, while by far not having the most sport climbing routes, has the most dense spread of routes across the state. This is likely due to the relatively small size of the state but its possession of the White Mountains and Lakes Region. After New Hampshire, California, Colorado and Utah are still leading the charts. The following table shows the top 10 most densely populated states listed in descending order."
   ]
  },
  {
   "cell_type": "code",
   "execution_count": null,
   "metadata": {},
   "outputs": [],
   "source": [
    "# Print the first 10 most dense sport climbing states in a table with descending order.\n",
    "sel_table = state_size_norm_data.sort_values(by='norm_sport_route_count', ascending=False)\n",
    "# Drop the column holding the state abbrevation.\n",
    "sel_table.drop(columns=['State'], inplace = True)\n",
    "# Reset the index and make it start at 1 to visually list the top 10 states.\n",
    "sel_table.reset_index(drop=True, inplace=True)\n",
    "sel_table.index += 1\n",
    "\n",
    "# We use Pandas display function to print a prettier table.                                                                                                \n",
    "display(sel_table.head(10).style.set_table_styles([\n",
    "    {'selector': 'thead', 'props': [('background-color', 'lightgrey')]}\n",
    "]))"
   ]
  }
 ],
 "metadata": {
  "kernelspec": {
   "display_name": "Python 3",
   "language": "python",
   "name": "python3"
  },
  "language_info": {
   "codemirror_mode": {
    "name": "ipython",
    "version": 3
   },
   "file_extension": ".py",
   "mimetype": "text/x-python",
   "name": "python",
   "nbconvert_exporter": "python",
   "pygments_lexer": "ipython3",
   "version": "3.11.3"
  },
  "orig_nbformat": 4
 },
 "nbformat": 4,
 "nbformat_minor": 2
}
